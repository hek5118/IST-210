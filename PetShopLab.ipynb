{
  "nbformat": 4,
  "nbformat_minor": 0,
  "metadata": {
    "colab": {
      "name": "PetShopLab",
      "provenance": [],
      "collapsed_sections": [],
      "authorship_tag": "ABX9TyM2FhtmD5Vfn3iahSqIJOrc",
      "include_colab_link": true
    },
    "kernelspec": {
      "name": "python3",
      "display_name": "Python 3"
    }
  },
  "cells": [
    {
      "cell_type": "markdown",
      "metadata": {
        "id": "view-in-github",
        "colab_type": "text"
      },
      "source": [
        "<a href=\"https://colab.research.google.com/github/hek5118/IST-210/blob/master/PetShopLab.ipynb\" target=\"_parent\"><img src=\"https://colab.research.google.com/assets/colab-badge.svg\" alt=\"Open In Colab\"/></a>"
      ]
    },
    {
      "cell_type": "markdown",
      "metadata": {
        "id": "uBzGETTP45h5",
        "colab_type": "text"
      },
      "source": [
        "![alt text](https://raw.githubusercontent.com/hek5118/IST-210/master/PetShop.png)"
      ]
    },
    {
      "cell_type": "markdown",
      "metadata": {
        "id": "zWhuwdGJ8fnJ",
        "colab_type": "text"
      },
      "source": [
        "For the project of creating a database to assist a pet shop business, I created the ER diagram above. I created 6 tables with the following titles; Pet Transactions, Customer, Food Transactions, Pets, Enclosures, and Food. My thought process in using these for the tables was that these are the biggest things that can be focused on to help the business run smoother based on the small paragraph given in the prompt. This can help better organize the pets into their enclosures, as well as organize the buying/ selling process of pets and food by using a customer's loyalty ID to track their transactions and better appeal to what returning customers desire. \n",
        "For both transaction tables, for food and pets, the primary key is the transaction number as it is the easiest traceable information to tell you what was purchased, how much, what time of day, etc. For the customer table, the primary key is the loyalty ID, because it will show you all the information needed to know about a customer, as well as show up in their purchase history to gain insight in what repeat customers tend to buy. For the pets table it is the pet's ID, for the purpose of being able to trace each pet to an exact purchase, and for the food table it is the same idea, but with a bar code. Finally, for the enclosure table, the primary key is the enclosure number, so that the pets are easily located and organized. "
      ]
    }
  ]
}