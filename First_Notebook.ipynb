{
  "nbformat": 4,
  "nbformat_minor": 0,
  "metadata": {
    "colab": {
      "name": "First Notebook.ipynb",
      "provenance": [],
      "collapsed_sections": [],
      "authorship_tag": "ABX9TyNnU2EJsABl5hi1gOaz3Seq",
      "include_colab_link": true
    },
    "kernelspec": {
      "name": "python3",
      "display_name": "Python 3"
    }
  },
  "cells": [
    {
      "cell_type": "markdown",
      "metadata": {
        "id": "view-in-github",
        "colab_type": "text"
      },
      "source": [
        "<a href=\"https://colab.research.google.com/github/hek5118/IST-210/blob/master/First_Notebook.ipynb\" target=\"_parent\"><img src=\"https://colab.research.google.com/assets/colab-badge.svg\" alt=\"Open In Colab\"/></a>"
      ]
    },
    {
      "cell_type": "markdown",
      "metadata": {
        "id": "4vYtSFdh6Va8",
        "colab_type": "text"
      },
      "source": [
        "### Hannah Kitchell"
      ]
    },
    {
      "cell_type": "markdown",
      "metadata": {
        "id": "YOIdDcu76YM4",
        "colab_type": "text"
      },
      "source": [
        "### I am interested in coding and data organization."
      ]
    },
    {
      "cell_type": "markdown",
      "metadata": {
        "id": "_AheoddYGFbu",
        "colab_type": "text"
      },
      "source": [
        "This is actually my first IST class since switching my major, so I'm still figuring out what things in IST interest me the most. "
      ]
    },
    {
      "cell_type": "markdown",
      "metadata": {
        "id": "-rT3kelW6dIC",
        "colab_type": "text"
      },
      "source": [
        "### I would like my future career to be involved in coding,  but I am not sure exactly what I want it to be yet. "
      ]
    },
    {
      "cell_type": "markdown",
      "metadata": {
        "id": "XC0fW8VmGdzi",
        "colab_type": "text"
      },
      "source": [
        "I want a career with flexibility for traveling/moving around the country, which a lot of jobs in IST will provide me."
      ]
    },
    {
      "cell_type": "markdown",
      "metadata": {
        "id": "SHGMlkCxE832",
        "colab_type": "text"
      },
      "source": [
        "![alt text](https://raw.githubusercontent.com/hek5118/IST-210/master/IMG_1314.JPG)"
      ]
    }
  ]
}