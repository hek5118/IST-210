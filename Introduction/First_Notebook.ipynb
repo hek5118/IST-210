{
  "nbformat": 4,
  "nbformat_minor": 0,
  "metadata": {
    "colab": {
      "name": "First Notebook.ipynb",
      "provenance": [],
      "collapsed_sections": [],
      "authorship_tag": "ABX9TyMeQ8OuNJPPOR7qtpIf9Rzv",
      "include_colab_link": true
    },
    "kernelspec": {
      "name": "python3",
      "display_name": "Python 3"
    }
  },
  "cells": [
    {
      "cell_type": "markdown",
      "metadata": {
        "id": "view-in-github",
        "colab_type": "text"
      },
      "source": [
        "<a href=\"https://colab.research.google.com/github/hek5118/IST-210/blob/master/Introduction/First_Notebook.ipynb\" target=\"_parent\"><img src=\"https://colab.research.google.com/assets/colab-badge.svg\" alt=\"Open In Colab\"/></a>"
      ]
    },
    {
      "cell_type": "markdown",
      "metadata": {
        "id": "4vYtSFdh6Va8",
        "colab_type": "text"
      },
      "source": [
        "### Hannah Kitchell"
      ]
    },
    {
      "cell_type": "markdown",
      "metadata": {
        "id": "YOIdDcu76YM4",
        "colab_type": "text"
      },
      "source": [
        "### I am interested in coding and data organization."
      ]
    },
    {
      "cell_type": "markdown",
      "metadata": {
        "id": "-rT3kelW6dIC",
        "colab_type": "text"
      },
      "source": [
        "### I would like my future job/career to be something flexible that allows me to travel/move. "
      ]
    }
  ]
}