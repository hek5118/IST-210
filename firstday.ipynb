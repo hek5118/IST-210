{
  "nbformat": 4,
  "nbformat_minor": 0,
  "metadata": {
    "colab": {
      "name": "firstday.ipynb",
      "provenance": [],
      "authorship_tag": "ABX9TyNyXEyG5tjyCXPmxItUsFvT",
      "include_colab_link": true
    },
    "kernelspec": {
      "name": "python3",
      "display_name": "Python 3"
    }
  },
  "cells": [
    {
      "cell_type": "markdown",
      "metadata": {
        "id": "view-in-github",
        "colab_type": "text"
      },
      "source": [
        "<a href=\"https://colab.research.google.com/github/hek5118/IST-210/blob/master/firstday.ipynb\" target=\"_parent\"><img src=\"https://colab.research.google.com/assets/colab-badge.svg\" alt=\"Open In Colab\"/></a>"
      ]
    },
    {
      "cell_type": "code",
      "metadata": {
        "id": "tRr4HoxkzY4y",
        "colab_type": "code",
        "colab": {
          "base_uri": "https://localhost:8080/",
          "height": 34
        },
        "outputId": "966d640d-9e62-4bfa-bf0e-bd6a84fdbff4"
      },
      "source": [
        "2+2"
      ],
      "execution_count": 5,
      "outputs": [
        {
          "output_type": "execute_result",
          "data": {
            "text/plain": [
              "4"
            ]
          },
          "metadata": {
            "tags": []
          },
          "execution_count": 5
        }
      ]
    },
    {
      "cell_type": "markdown",
      "metadata": {
        "id": "7uI9mjXZz-Dk",
        "colab_type": "text"
      },
      "source": [
        "This is my first notebook!"
      ]
    },
    {
      "cell_type": "code",
      "metadata": {
        "id": "m2071nRxzvh2",
        "colab_type": "code",
        "colab": {
          "base_uri": "https://localhost:8080/",
          "height": 34
        },
        "outputId": "23add552-f425-4cf9-8b05-1631229a907a"
      },
      "source": [
        "2+3"
      ],
      "execution_count": 6,
      "outputs": [
        {
          "output_type": "execute_result",
          "data": {
            "text/plain": [
              "5"
            ]
          },
          "metadata": {
            "tags": []
          },
          "execution_count": 6
        }
      ]
    },
    {
      "cell_type": "markdown",
      "metadata": {
        "id": "vZTL7EzK0Sjr",
        "colab_type": "text"
      },
      "source": [
        "this is **bold**"
      ]
    },
    {
      "cell_type": "markdown",
      "metadata": {
        "id": "K2e5PKA_0k1n",
        "colab_type": "text"
      },
      "source": [
        "### this is a header"
      ]
    },
    {
      "cell_type": "markdown",
      "metadata": {
        "id": "RYbIa85K4K22",
        "colab_type": "text"
      },
      "source": [
        "![alt text](https://raw.githubusercontent.com/hek5118/IST-210/master/Introduction/brown%20retriever.jpg)"
      ]
    }
  ]
}