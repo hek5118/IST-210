{
  "nbformat": 4,
  "nbformat_minor": 0,
  "metadata": {
    "colab": {
      "name": "Project 2.ipynb",
      "provenance": [],
      "collapsed_sections": [],
      "include_colab_link": true
    },
    "kernelspec": {
      "name": "python3",
      "display_name": "Python 3"
    }
  },
  "cells": [
    {
      "cell_type": "markdown",
      "metadata": {
        "id": "view-in-github",
        "colab_type": "text"
      },
      "source": [
        "<a href=\"https://colab.research.google.com/github/hek5118/IST-210/blob/master/Project_2.ipynb\" target=\"_parent\"><img src=\"https://colab.research.google.com/assets/colab-badge.svg\" alt=\"Open In Colab\"/></a>"
      ]
    },
    {
      "cell_type": "markdown",
      "metadata": {
        "id": "ESsghjV_XRnB",
        "colab_type": "text"
      },
      "source": [
        "The ER Diagram is based on the idea in Project 1: movie ticket sales. We typically have 6 tables based on each important entity. The tables are : 'Movie'- the attributes for this are name of the movie, run time, room number and unique ticket id. The uniue primary key for this table is Movie_ID. The Movie_ID helps us identify the table on 'Employees'. It is a foreign key in this table. The 'Employees' table gives us information such as shift time, number of shifts, and length of shift about each of the employees at the theatre. Next, we have the ticket transaction table to keep a record of all the tickets purchased by the customers. The unique ticket id ,ticket price for each, and movie id are some of the attributes. We have 2 foreign keys for this table Movie_ID and Seats_Left. This relationship is one to many, as there could be a movie that no one buys a ticket for or a movie that sells a housefull. We then have a one to many relationship of seats left between the tables 'Movies' and 'Seats'. The table for 'Seats' gives us information about which room has how many seats , price of each ticket and room size. Our next table is on'Customers'. Each customer is assigned a unique customer_id by the system while he/she purchases a ticket. Each customer is also assigned a concession amount (that is optional). This concession amount has a unique id and ris based on the number of items purchased and the total amount for the items purchased. This has a one to many(optional) relationaship. \n"
      ]
    },
    {
      "cell_type": "markdown",
      "metadata": {
        "id": "i-hpOdEOd0ru",
        "colab_type": "text"
      },
      "source": [
        "![alt text](https://raw.githubusercontent.com/hek5118/IST-210/master/Project%202.png)"
      ]
    }
  ]
}